{
 "cells": [
  {
   "cell_type": "markdown",
   "metadata": {},
   "source": [
    "## Scrape Batter Data\n",
    "\n",
    "This notebook scrapes batting data from baseball reference. Beautiful soup is used to extract the specific information that is desired. The data is merged together for both American League and National League teams and written to a csv file that can be used for further analysis. "
   ]
  },
  {
   "cell_type": "code",
   "execution_count": null,
   "metadata": {},
   "outputs": [],
   "source": [
    "import pandas as pd\n",
    "import numpy as np\n",
    "from bs4 import BeautifulSoup\n",
    "import requests\n",
    "from urllib.request import urlopen\n",
    "from bs4 import Comment\n",
    "from sklearn.linear_model import LinearRegression\n",
    "from sklearn.metrics import mean_squared_error"
   ]
  },
  {
   "cell_type": "markdown",
   "metadata": {},
   "source": [
    "### Get all AL Players Batter Data "
   ]
  },
  {
   "cell_type": "code",
   "execution_count": null,
   "metadata": {},
   "outputs": [],
   "source": [
    "url = \"https://www.baseball-reference.com/leagues/AL/2020-standard-batting.shtml\"\n",
    "response = requests.get(url)\n",
    "soup = BeautifulSoup(response.text, 'html.parser')"
   ]
  },
  {
   "cell_type": "code",
   "execution_count": null,
   "metadata": {},
   "outputs": [],
   "source": [
    "ids = []\n",
    "content = urlopen(\"https://www.baseball-reference.com/leagues/AL/2020-standard-batting.shtml\")\n",
    "soup = BeautifulSoup(content.read(),\"lxml\")\n",
    "for comment in soup.find_all(string=lambda text:isinstance(text,Comment)):\n",
    "    sauce = BeautifulSoup(comment,\"lxml\")\n",
    "    for tags in sauce.find_all('tr'):\n",
    "        name = [item.get(\"data-append-csv\") for item in tags.find_all(\"td\")[:1]]\n",
    "        ids.append(name)"
   ]
  },
  {
   "cell_type": "code",
   "execution_count": null,
   "metadata": {},
   "outputs": [],
   "source": [
    "cleaned_ids = list(set([i[0] for i in ids if len(i) > 0]))"
   ]
  },
  {
   "cell_type": "code",
   "execution_count": null,
   "metadata": {},
   "outputs": [],
   "source": [
    "player_id_name = {}\n",
    "for player in cleaned_ids:\n",
    "    if player is not None:\n",
    "        url = \"https://www.baseball-reference.com/players/gl.fcgi?id=\" + player + \"&t=b&year=2020\"\n",
    "        response = requests.get(url)\n",
    "        soup = BeautifulSoup(response.text, 'html.parser')\n",
    "        \n",
    "        player_name = \" \".join(soup.find('title').text.split(' ')[:2])\n",
    "        player_id_name[player] = player_name"
   ]
  },
  {
   "cell_type": "code",
   "execution_count": null,
   "metadata": {},
   "outputs": [],
   "source": [
    "df_list = []\n",
    "for player in cleaned_ids:\n",
    "    if player is not None:\n",
    "        url = \"https://www.baseball-reference.com/players/gl.fcgi?id=\" + player + \"&t=b&year=2020\"\n",
    "        response = requests.get(url)\n",
    "        soup = BeautifulSoup(response.text, 'html.parser')\n",
    "        table_headers = []\n",
    "        for x in soup.find('thead').find_all('th'):\n",
    "            table_headers.append(x.text)\n",
    "\n",
    "        data = []\n",
    "        table = soup.find('table')\n",
    "        table_body = soup.find('tbody')\n",
    "        rows = table_body.find_all('tr')\n",
    "        for i,row in enumerate(rows):\n",
    "            cols = row.find_all('td')\n",
    "            lst = [ele.text.strip() for ele in cols]\n",
    "            data.append(lst)\n",
    "        df = pd.DataFrame(data,columns=table_headers[1:])\n",
    "        df['player_id'] = player\n",
    "        df_list.append(df)"
   ]
  },
  {
   "cell_type": "code",
   "execution_count": null,
   "metadata": {},
   "outputs": [],
   "source": [
    "al_df = pd.concat(df_list)"
   ]
  },
  {
   "cell_type": "markdown",
   "metadata": {},
   "source": [
    "### Get All NL Players Batter Data "
   ]
  },
  {
   "cell_type": "code",
   "execution_count": null,
   "metadata": {},
   "outputs": [],
   "source": [
    "url = \"https://www.baseball-reference.com/leagues/NL/2020-standard-batting.shtml\"\n",
    "response = requests.get(url)\n",
    "soup = BeautifulSoup(response.text, 'html.parser')"
   ]
  },
  {
   "cell_type": "code",
   "execution_count": null,
   "metadata": {},
   "outputs": [],
   "source": [
    "ids = []\n",
    "content = urlopen(\"https://www.baseball-reference.com/leagues/NL/2020-standard-batting.shtml\")\n",
    "soup = BeautifulSoup(content.read(),\"lxml\")\n",
    "for comment in soup.find_all(string=lambda text:isinstance(text,Comment)):\n",
    "    sauce = BeautifulSoup(comment,\"lxml\")\n",
    "    for tags in sauce.find_all('tr'):\n",
    "        name = [item.get(\"data-append-csv\") for item in tags.find_all(\"td\")[:1]]\n",
    "        ids.append(name)"
   ]
  },
  {
   "cell_type": "code",
   "execution_count": null,
   "metadata": {},
   "outputs": [],
   "source": [
    "cleaned_ids = list(set([i[0] for i in ids if len(i) > 0]))"
   ]
  },
  {
   "cell_type": "code",
   "execution_count": null,
   "metadata": {},
   "outputs": [],
   "source": [
    "player_id_name = {}\n",
    "for player in cleaned_ids:\n",
    "    if player is not None:\n",
    "        url = \"https://www.baseball-reference.com/players/gl.fcgi?id=\" + player + \"&t=b&year=2020\"\n",
    "        response = requests.get(url)\n",
    "        soup = BeautifulSoup(response.text, 'html.parser')\n",
    "        \n",
    "        player_name = \" \".join(soup.find('title').text.split(' ')[:2])\n",
    "        player_id_name[player] = player_name"
   ]
  },
  {
   "cell_type": "code",
   "execution_count": null,
   "metadata": {},
   "outputs": [],
   "source": [
    "df_list = []\n",
    "for player in cleaned_ids:\n",
    "    if player is not None:\n",
    "        url = \"https://www.baseball-reference.com/players/gl.fcgi?id=\" + player + \"&t=b&year=2020\"\n",
    "        response = requests.get(url)\n",
    "        soup = BeautifulSoup(response.text, 'html.parser')\n",
    "        table_headers = []\n",
    "        for x in soup.find('thead').find_all('th'):\n",
    "            table_headers.append(x.text)\n",
    "\n",
    "        data = []\n",
    "        table = soup.find('table')\n",
    "        table_body = soup.find('tbody')\n",
    "        rows = table_body.find_all('tr')\n",
    "        for i,row in enumerate(rows):\n",
    "            cols = row.find_all('td')\n",
    "            lst = [ele.text.strip() for ele in cols]\n",
    "            data.append(lst)\n",
    "        df = pd.DataFrame(data,columns=table_headers[1:])\n",
    "        df['player_id'] = player\n",
    "        df_list.append(df)"
   ]
  },
  {
   "cell_type": "code",
   "execution_count": null,
   "metadata": {},
   "outputs": [],
   "source": [
    "nl_df = pd.concat(df_list)"
   ]
  },
  {
   "cell_type": "markdown",
   "metadata": {},
   "source": [
    "### Merge the AL & NL Dataframes Together & Export "
   ]
  },
  {
   "cell_type": "code",
   "execution_count": null,
   "metadata": {},
   "outputs": [],
   "source": [
    "final_df = pd.concat([al_df, nl_df])"
   ]
  },
  {
   "cell_type": "code",
   "execution_count": null,
   "metadata": {},
   "outputs": [],
   "source": [
    "final_df.shape"
   ]
  },
  {
   "cell_type": "code",
   "execution_count": null,
   "metadata": {},
   "outputs": [],
   "source": [
    "final_df.to_csv('../data/all_batters_game_data.csv')"
   ]
  }
 ],
 "metadata": {
  "kernelspec": {
   "display_name": "Python 3",
   "language": "python",
   "name": "python3"
  },
  "language_info": {
   "codemirror_mode": {
    "name": "ipython",
    "version": 3
   },
   "file_extension": ".py",
   "mimetype": "text/x-python",
   "name": "python",
   "nbconvert_exporter": "python",
   "pygments_lexer": "ipython3",
   "version": "3.8.5"
  },
  "toc": {
   "base_numbering": 1,
   "nav_menu": {},
   "number_sections": false,
   "sideBar": false,
   "skip_h1_title": false,
   "title_cell": "Table of Contents",
   "title_sidebar": "Contents",
   "toc_cell": false,
   "toc_position": {},
   "toc_section_display": false,
   "toc_window_display": false
  }
 },
 "nbformat": 4,
 "nbformat_minor": 2
}
