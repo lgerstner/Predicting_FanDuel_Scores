{
 "cells": [
  {
   "cell_type": "markdown",
   "metadata": {},
   "source": [
    "# FanDuel Analysis\n",
    "\n",
    "This notebook is used to predict whether a player will score points on FanDuel for a game. This is simpler version of predicting how many total points they may get on a day. The goal is to create a model that will perform better than a basic model, and then visualize the results to understand what factors drive a player's chance that they will score points on FanDuel.\n",
    "\n",
    "\n",
    "* Step 1 - read in data and create any more features\n",
    "* Step 2- build basic model to compare future models to\n",
    "* Step 3 - create visualization section\n",
    "* Step 4 - once better model is built email guy from phillies to stay in contact"
   ]
  },
  {
   "cell_type": "markdown",
   "metadata": {},
   "source": [
    "### Step 1 "
   ]
  },
  {
   "cell_type": "code",
   "execution_count": 4,
   "metadata": {},
   "outputs": [],
   "source": [
    "import pandas as pd\n",
    "import numpy as np\n",
    "import matplotlib.pyplot as plt\n",
    "from sklearn.preprocessing import StandardScaler\n",
    "from sklearn.model_selection import train_test_split\n",
    "from sklearn.linear_model import LogisticRegression\n",
    "from sklearn.tree import DecisionTreeClassifier\n",
    "from sklearn.neighbors import KNeighborsClassifier\n",
    "from sklearn.ensemble import AdaBoostClassifier\n",
    "from sklearn.neural_network import MLPClassifier\n",
    "from sklearn.metrics import accuracy_score\n",
    "from sklearn.model_selection import cross_val_score"
   ]
  },
  {
   "cell_type": "code",
   "execution_count": 5,
   "metadata": {},
   "outputs": [],
   "source": [
    "df = pd.read_csv('../data/all_batters_with_extra_feats.csv')"
   ]
  },
  {
   "cell_type": "code",
   "execution_count": 6,
   "metadata": {},
   "outputs": [
    {
     "data": {
      "text/plain": [
       "Index(['Unnamed: 0', 'player_id', 'high_home_runs', 'low_home_runs',\n",
       "       'med_home_runs', 'Unnamed: 0.1', 'Unnamed: 0.1.1', 'Gcar', 'Gtm',\n",
       "       'Date', 'Tm', 'Opp', 'Rslt', 'Inngs', 'PA', 'AB', 'R', 'H', '2B', '3B',\n",
       "       'HR', 'RBI', 'BB', 'IBB', 'SO', 'HBP', 'SH', 'SF', 'ROE', 'GDP', 'SB',\n",
       "       'CS', 'BA', 'OBP', 'SLG', 'OPS', 'BOP', 'aLI', 'WPA', 'acLI', 'cWPA',\n",
       "       'RE24', 'DFS(DK)', 'DFS(FD)', 'Pos', 'is_home', 'got_hit',\n",
       "       'got_hit_prev_day', 'hit_streak', 'prev_points', 'points_ma',\n",
       "       'above_avg_points', 'above_avg_streak'],\n",
       "      dtype='object')"
      ]
     },
     "execution_count": 6,
     "metadata": {},
     "output_type": "execute_result"
    }
   ],
   "source": [
    "df.columns"
   ]
  },
  {
   "cell_type": "markdown",
   "metadata": {},
   "source": [
    "### Select Features & Standardize Data "
   ]
  },
  {
   "cell_type": "code",
   "execution_count": 28,
   "metadata": {},
   "outputs": [],
   "source": [
    "def get_X_and_y(df):\n",
    "    feats = ['hit_streak', 'prev_points', 'points_ma', \n",
    "             'above_avg_points', 'above_avg_streak']\n",
    "    X = df[feats]\n",
    "    df['positive_points'] = df['DFS(FD)'] > 0\n",
    "    y = df['positive_points']\n",
    "    return X, y"
   ]
  },
  {
   "cell_type": "code",
   "execution_count": 15,
   "metadata": {},
   "outputs": [],
   "source": [
    "X, y = get_X_and_y(df)"
   ]
  },
  {
   "cell_type": "code",
   "execution_count": 16,
   "metadata": {},
   "outputs": [],
   "source": [
    "hhr = df[df['high_home_runs'] == 1].copy()\n",
    "hhr_X, hhr_y = get_X_and_y(hhr)\n",
    "\n",
    "mhr = df[df['med_home_runs'] == 1].copy()\n",
    "mhr_X, mhr_y = get_X_and_y(mhr)\n",
    "\n",
    "lhr = df[df['low_home_runs'] == 1].copy()\n",
    "lhr_X, lhr_y = get_X_and_y(lhr)"
   ]
  },
  {
   "cell_type": "markdown",
   "metadata": {},
   "source": [
    "### Step 2 "
   ]
  },
  {
   "cell_type": "code",
   "execution_count": 17,
   "metadata": {},
   "outputs": [
    {
     "data": {
      "text/plain": [
       "0.7386626105571517"
      ]
     },
     "execution_count": 17,
     "metadata": {},
     "output_type": "execute_result"
    }
   ],
   "source": [
    "# what is the baseline accuracy (if always guessed positive how many what would it be)\n",
    "# baseline is 72.9%\n",
    "df['positive_points'].sum()/df.shape[0]"
   ]
  },
  {
   "cell_type": "code",
   "execution_count": 23,
   "metadata": {},
   "outputs": [],
   "source": [
    "def run_classify_model(df, X, y):\n",
    "    results = {'baseline': df['positive_points'].sum()/df.shape[0]}\n",
    "    models = ['LOG', 'TREE', 'KNN', 'ADA', 'NN']\n",
    "    for model in models:\n",
    "        if model == 'LOG':\n",
    "            clf = LogisticRegression(solver='saga', max_iter=10000)\n",
    "        elif model == 'TREE':\n",
    "            clf = DecisionTreeClassifier(max_depth=10)\n",
    "        elif model == 'KNN':\n",
    "            clf = KNeighborsClassifier()\n",
    "        elif model == 'ADA':\n",
    "            clf = AdaBoostClassifier()\n",
    "        elif model == 'NN':\n",
    "            clf = MLPClassifier(random_state=1, max_iter=300)\n",
    "        X_train, X_test, y_train, y_test = train_test_split(X, y, random_state=1)\n",
    "        scaler = StandardScaler().fit(X_train)\n",
    "        X_train_scaled = scaler.transform(X_train)\n",
    "        X_test_scaled = scaler.transform(X_test)\n",
    "        clf = clf.fit(X_train, y_train)\n",
    "        y_pred = clf.predict(X_test_scaled)\n",
    "#         scores = cross_val_score(clf,X, y, cv=10)\n",
    "        acc = accuracy_score(y_pred, y_test)\n",
    "        results[model] = round(acc, 3) * 100\n",
    "    return results"
   ]
  },
  {
   "cell_type": "code",
   "execution_count": 24,
   "metadata": {},
   "outputs": [
    {
     "data": {
      "text/plain": [
       "{'baseline': 0.7386626105571517,\n",
       " 'LOG': 73.0,\n",
       " 'TREE': 72.7,\n",
       " 'KNN': 64.1,\n",
       " 'ADA': 73.0,\n",
       " 'NN': 72.89999999999999}"
      ]
     },
     "execution_count": 24,
     "metadata": {},
     "output_type": "execute_result"
    }
   ],
   "source": [
    "run_classify_model(df, X, y)"
   ]
  },
  {
   "cell_type": "code",
   "execution_count": 25,
   "metadata": {},
   "outputs": [
    {
     "data": {
      "text/plain": [
       "{'baseline': 0.8091487428052105,\n",
       " 'LOG': 79.80000000000001,\n",
       " 'TREE': 75.2,\n",
       " 'KNN': 76.6,\n",
       " 'ADA': 79.7,\n",
       " 'NN': 79.80000000000001}"
      ]
     },
     "execution_count": 25,
     "metadata": {},
     "output_type": "execute_result"
    }
   ],
   "source": [
    "run_classify_model(hhr,hhr_X_scaled, hhr_y)"
   ]
  },
  {
   "cell_type": "code",
   "execution_count": 26,
   "metadata": {},
   "outputs": [
    {
     "data": {
      "text/plain": [
       "{'baseline': 0.761917883714522,\n",
       " 'LOG': 77.0,\n",
       " 'TREE': 76.0,\n",
       " 'KNN': 73.9,\n",
       " 'ADA': 76.9,\n",
       " 'NN': 77.0}"
      ]
     },
     "execution_count": 26,
     "metadata": {},
     "output_type": "execute_result"
    }
   ],
   "source": [
    "run_classify_model(mhr,mhr_X_scaled, mhr_y)"
   ]
  },
  {
   "cell_type": "code",
   "execution_count": 27,
   "metadata": {},
   "outputs": [
    {
     "data": {
      "text/plain": [
       "{'baseline': 0.6828420467185762,\n",
       " 'LOG': 67.9,\n",
       " 'TREE': 64.5,\n",
       " 'KNN': 61.3,\n",
       " 'ADA': 67.5,\n",
       " 'NN': 67.9}"
      ]
     },
     "execution_count": 27,
     "metadata": {},
     "output_type": "execute_result"
    }
   ],
   "source": [
    "run_classify_model(lhr,lhr_X_scaled, lhr_y)"
   ]
  }
 ],
 "metadata": {
  "kernelspec": {
   "display_name": "Python 3",
   "language": "python",
   "name": "python3"
  },
  "language_info": {
   "codemirror_mode": {
    "name": "ipython",
    "version": 3
   },
   "file_extension": ".py",
   "mimetype": "text/x-python",
   "name": "python",
   "nbconvert_exporter": "python",
   "pygments_lexer": "ipython3",
   "version": "3.8.5"
  }
 },
 "nbformat": 4,
 "nbformat_minor": 4
}
