{
 "cells": [
  {
   "cell_type": "markdown",
   "metadata": {},
   "source": [
    "# FanDuel Analysis\n",
    "\n",
    "This notebook is used to predict whether a player will score points on FanDuel for a game. This is a more simple version of predicting how many total points they may get on a day. This will help in creating FanDuel lineups, by knowing which players are more likely to score points for the upcoming game."
   ]
  },
  {
   "cell_type": "markdown",
   "metadata": {},
   "source": [
    "### Step 1 "
   ]
  },
  {
   "cell_type": "code",
   "execution_count": null,
   "metadata": {},
   "outputs": [],
   "source": [
    "import pandas as pd\n",
    "import numpy as np\n",
    "import matplotlib.pyplot as plt\n",
    "from sklearn.preprocessing import StandardScaler\n",
    "from sklearn.model_selection import train_test_split\n",
    "from sklearn.linear_model import LogisticRegression\n",
    "from sklearn.tree import DecisionTreeClassifier\n",
    "from sklearn.neighbors import KNeighborsClassifier\n",
    "from sklearn.ensemble import AdaBoostClassifier\n",
    "from sklearn.neural_network import MLPClassifier\n",
    "from sklearn.metrics import accuracy_score\n",
    "from sklearn.model_selection import cross_val_score"
   ]
  },
  {
   "cell_type": "code",
   "execution_count": null,
   "metadata": {},
   "outputs": [],
   "source": [
    "df = pd.read_csv('../data/all_batters_with_extra_feats.csv')"
   ]
  },
  {
   "cell_type": "code",
   "execution_count": null,
   "metadata": {},
   "outputs": [],
   "source": [
    "df.head()"
   ]
  },
  {
   "cell_type": "markdown",
   "metadata": {},
   "source": [
    "### Select Features & Standardize Data "
   ]
  },
  {
   "cell_type": "code",
   "execution_count": null,
   "metadata": {},
   "outputs": [],
   "source": [
    "def get_X_and_y(df):\n",
    "    feats = ['hit_streak', 'prev_points', 'points_ma', \n",
    "             'above_avg_points', 'above_avg_streak']\n",
    "    X = df[feats]\n",
    "    df['positive_points'] = df['DFS(FD)'] > 0\n",
    "    y = df['positive_points']\n",
    "    return X, y"
   ]
  },
  {
   "cell_type": "code",
   "execution_count": null,
   "metadata": {},
   "outputs": [],
   "source": [
    "X, y = get_X_and_y(df)"
   ]
  },
  {
   "cell_type": "code",
   "execution_count": null,
   "metadata": {},
   "outputs": [],
   "source": [
    "hhr = df[df['high_home_runs'] == 1].copy()\n",
    "hhr_X, hhr_y = get_X_and_y(hhr)\n",
    "\n",
    "mhr = df[df['med_home_runs'] == 1].copy()\n",
    "mhr_X, mhr_y = get_X_and_y(mhr)\n",
    "\n",
    "lhr = df[df['low_home_runs'] == 1].copy()\n",
    "lhr_X, lhr_y = get_X_and_y(lhr)"
   ]
  },
  {
   "cell_type": "markdown",
   "metadata": {},
   "source": [
    "### Step 2 "
   ]
  },
  {
   "cell_type": "code",
   "execution_count": null,
   "metadata": {},
   "outputs": [],
   "source": [
    "# what is the baseline accuracy (if always guessed positive how many what would it be)\n",
    "df['positive_points'].sum()/df.shape[0]"
   ]
  },
  {
   "cell_type": "code",
   "execution_count": null,
   "metadata": {},
   "outputs": [],
   "source": [
    "def run_classify_model(df, X, y):\n",
    "    results = {'baseline': round(df['positive_points'].sum()/df.shape[0],3)*100}\n",
    "    models = ['LOG', 'TREE', 'KNN', 'ADA', 'NN']\n",
    "    for model in models:\n",
    "        if model == 'LOG':\n",
    "            clf = LogisticRegression(solver='saga', max_iter=10000)\n",
    "        elif model == 'TREE':\n",
    "            clf = DecisionTreeClassifier(max_depth=10)\n",
    "        elif model == 'KNN':\n",
    "            clf = KNeighborsClassifier()\n",
    "        elif model == 'ADA':\n",
    "            clf = AdaBoostClassifier()\n",
    "        elif model == 'NN':\n",
    "            clf = MLPClassifier(random_state=1, max_iter=300)\n",
    "        X_train, X_test, y_train, y_test = train_test_split(X, y, random_state=1)\n",
    "        scaler = StandardScaler().fit(X_train)\n",
    "        X_train_scaled = scaler.transform(X_train)\n",
    "        X_test_scaled = scaler.transform(X_test)\n",
    "        clf = clf.fit(X_train, y_train)\n",
    "        y_pred = clf.predict(X_test_scaled)\n",
    "        acc = accuracy_score(y_pred, y_test)\n",
    "        results[model] = round(acc, 3) * 100\n",
    "    return results"
   ]
  },
  {
   "cell_type": "code",
   "execution_count": null,
   "metadata": {},
   "outputs": [],
   "source": [
    "run_classify_model(df, X, y)"
   ]
  },
  {
   "cell_type": "code",
   "execution_count": null,
   "metadata": {},
   "outputs": [],
   "source": [
    "run_classify_model(hhr,hhr_X, hhr_y)"
   ]
  },
  {
   "cell_type": "code",
   "execution_count": null,
   "metadata": {},
   "outputs": [],
   "source": [
    "run_classify_model(mhr,mhr_X, mhr_y)"
   ]
  },
  {
   "cell_type": "code",
   "execution_count": null,
   "metadata": {},
   "outputs": [],
   "source": [
    "run_classify_model(lhr,lhr_X, lhr_y)"
   ]
  }
 ],
 "metadata": {
  "kernelspec": {
   "display_name": "Python 3",
   "language": "python",
   "name": "python3"
  },
  "language_info": {
   "codemirror_mode": {
    "name": "ipython",
    "version": 3
   },
   "file_extension": ".py",
   "mimetype": "text/x-python",
   "name": "python",
   "nbconvert_exporter": "python",
   "pygments_lexer": "ipython3",
   "version": "3.8.5"
  }
 },
 "nbformat": 4,
 "nbformat_minor": 4
}
